{
 "cells": [
  {
   "cell_type": "code",
   "execution_count": 16,
   "id": "d7ddbc8a",
   "metadata": {},
   "outputs": [],
   "source": [
    "import pandas as pd "
   ]
  },
  {
   "cell_type": "code",
   "execution_count": 17,
   "id": "21617ba2",
   "metadata": {},
   "outputs": [],
   "source": [
    "transcripts = pd.read_csv(\"Results/GSEA_Analysis/gsea_simplified_results_Q4.00_WithGOTreeFinal_220821.csv\")\n",
    "orto = pd.read_csv(\"killifish_human_ortho.csv\")\n",
    "rnaseq = pd.read_csv(\"rna_data_raw_counts.csv\")"
   ]
  },
  {
   "cell_type": "code",
   "execution_count": 18,
   "id": "08553add",
   "metadata": {},
   "outputs": [],
   "source": [
    "transcripts = transcripts.iloc[102]['core_enrichment'].split('/')"
   ]
  },
  {
   "cell_type": "code",
   "execution_count": 21,
   "id": "c331c656",
   "metadata": {},
   "outputs": [
    {
     "data": {
      "text/plain": [
       "Index(['Gene.stable.ID', 'HGNC.symbol', 'Gene.stable.ID.1'], dtype='object')"
      ]
     },
     "execution_count": 21,
     "metadata": {},
     "output_type": "execute_result"
    }
   ],
   "source": [
    "orto.columns"
   ]
  },
  {
   "cell_type": "code",
   "execution_count": 47,
   "id": "01f38e1e",
   "metadata": {},
   "outputs": [],
   "source": [
    "orto_dict = dict(zip(orto['Gene.stable.ID.1'], orto['Gene.stable.ID']))\n",
    "orto_names_dict = dict(zip(orto['Gene.stable.ID'], orto['HGNC.symbol']))"
   ]
  },
  {
   "cell_type": "code",
   "execution_count": 39,
   "id": "538476cb",
   "metadata": {},
   "outputs": [],
   "source": [
    "orto_transcripts = list(map(orto_dict.get, transcripts))"
   ]
  },
  {
   "cell_type": "code",
   "execution_count": 48,
   "id": "9b668c95",
   "metadata": {},
   "outputs": [],
   "source": [
    "rnaseq['HGNC'] = rnaseq['ensgene'].map(orto_names_dict)"
   ]
  },
  {
   "cell_type": "code",
   "execution_count": 51,
   "id": "0faa5b28",
   "metadata": {},
   "outputs": [],
   "source": [
    "output = rnaseq[rnaseq['ensgene'].isin(orto_transcripts)]"
   ]
  },
  {
   "cell_type": "code",
   "execution_count": 52,
   "id": "e6c873a0",
   "metadata": {},
   "outputs": [],
   "source": [
    "output.to_csv(\"RegulationOfComplementActivation_Transcripts_240821.csv\")"
   ]
  },
  {
   "cell_type": "code",
   "execution_count": null,
   "id": "89d03476",
   "metadata": {},
   "outputs": [],
   "source": []
  }
 ],
 "metadata": {
  "kernelspec": {
   "display_name": "Python 3",
   "language": "python",
   "name": "python3"
  },
  "language_info": {
   "codemirror_mode": {
    "name": "ipython",
    "version": 3
   },
   "file_extension": ".py",
   "mimetype": "text/x-python",
   "name": "python",
   "nbconvert_exporter": "python",
   "pygments_lexer": "ipython3",
   "version": "3.8.8"
  }
 },
 "nbformat": 4,
 "nbformat_minor": 5
}
