{
 "cells": [
  {
   "cell_type": "code",
   "execution_count": 16,
   "id": "b13d2641",
   "metadata": {},
   "outputs": [],
   "source": [
    "import pandas as pd "
   ]
  },
  {
   "cell_type": "code",
   "execution_count": 17,
   "id": "7c89621d",
   "metadata": {},
   "outputs": [],
   "source": [
    "transcripts = pd.read_csv(\"Results/GSEA_Analysis/gsea_simplified_results_Q4.00_WithGOTreeFinal_220821.csv\")\n",
    "orto = pd.read_csv(\"killifish_human_ortho.csv\")\n",
    "rnaseq = pd.read_csv(\"rna_data_raw_counts.csv\")"
   ]
  },
  {
   "cell_type": "code",
   "execution_count": 18,
   "id": "0bf23649",
   "metadata": {},
   "outputs": [],
   "source": [
    "transcripts = transcripts.iloc[102]['core_enrichment'].split('/')"
   ]
  },
  {
   "cell_type": "code",
   "execution_count": 21,
   "id": "8a67972f",
   "metadata": {},
   "outputs": [
    {
     "data": {
      "text/plain": [
       "Index(['Gene.stable.ID', 'HGNC.symbol', 'Gene.stable.ID.1'], dtype='object')"
      ]
     },
     "execution_count": 21,
     "metadata": {},
     "output_type": "execute_result"
    }
   ],
   "source": [
    "orto.columns"
   ]
  },
  {
   "cell_type": "code",
   "execution_count": 25,
   "id": "e81aad51",
   "metadata": {},
   "outputs": [],
   "source": [
    "orto_dict = dict(zip(orto['Gene.stable.ID.1'], orto['Gene.stable.ID']))"
   ]
  },
  {
   "cell_type": "code",
   "execution_count": 39,
   "id": "f6387052",
   "metadata": {},
   "outputs": [],
   "source": [
    "orto_transcripts = list(map(orto_dict.get, transcripts))"
   ]
  },
  {
   "cell_type": "code",
   "execution_count": null,
   "id": "312551f9",
   "metadata": {},
   "outputs": [],
   "source": []
  },
  {
   "cell_type": "raw",
   "id": "086f4795",
   "metadata": {},
   "source": [
    "orto_transcripts"
   ]
  },
  {
   "cell_type": "code",
   "execution_count": null,
   "id": "71b5c3ba",
   "metadata": {},
   "outputs": [],
   "source": []
  }
 ],
 "metadata": {
  "kernelspec": {
   "display_name": "Python 3",
   "language": "python",
   "name": "python3"
  },
  "language_info": {
   "codemirror_mode": {
    "name": "ipython",
    "version": 3
   },
   "file_extension": ".py",
   "mimetype": "text/x-python",
   "name": "python",
   "nbconvert_exporter": "python",
   "pygments_lexer": "ipython3",
   "version": "3.8.8"
  }
 },
 "nbformat": 4,
 "nbformat_minor": 5
}
