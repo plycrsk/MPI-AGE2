{
 "cells": [
  {
   "cell_type": "code",
   "execution_count": 79,
   "id": "d7ddbc8a",
   "metadata": {},
   "outputs": [],
   "source": [
    "import pandas as pd "
   ]
  },
  {
   "cell_type": "code",
   "execution_count": 80,
   "id": "21617ba2",
   "metadata": {},
   "outputs": [],
   "source": [
    "transcripts = pd.read_csv(\"Results/GSEA_Analysis/gsea_simplified_results_Q4.00_WithGOTreeFinal_220821.csv\")\n",
    "orto = pd.read_csv(\"killifish_human_ortho.csv\")\n",
    "rnaseq = pd.read_csv(\"Results/DiffExp_Analysis/DiffExp_age_plus_div_Q4.00_150821.csv\")"
   ]
  },
  {
   "cell_type": "code",
   "execution_count": 81,
   "id": "3bda4c59",
   "metadata": {
    "scrolled": true
   },
   "outputs": [],
   "source": [
    "index = transcripts[transcripts['Description'].str.startswith('leukocyte migration')].index"
   ]
  },
  {
   "cell_type": "code",
   "execution_count": 82,
   "id": "3be1319d",
   "metadata": {},
   "outputs": [
    {
     "data": {
      "text/plain": [
       "Int64Index([0], dtype='int64')"
      ]
     },
     "execution_count": 82,
     "metadata": {},
     "output_type": "execute_result"
    }
   ],
   "source": [
    "index"
   ]
  },
  {
   "cell_type": "code",
   "execution_count": 83,
   "id": "08553add",
   "metadata": {},
   "outputs": [],
   "source": [
    "transcripts = transcripts.iloc[index[0]]['core_enrichment'].split('/')"
   ]
  },
  {
   "cell_type": "code",
   "execution_count": 84,
   "id": "c331c656",
   "metadata": {},
   "outputs": [
    {
     "data": {
      "text/plain": [
       "Index(['Gene.stable.ID', 'HGNC.symbol', 'Gene.stable.ID.1'], dtype='object')"
      ]
     },
     "execution_count": 84,
     "metadata": {},
     "output_type": "execute_result"
    }
   ],
   "source": [
    "orto.columns"
   ]
  },
  {
   "cell_type": "code",
   "execution_count": 85,
   "id": "01f38e1e",
   "metadata": {},
   "outputs": [],
   "source": [
    "orto_dict = dict(zip(orto['Gene.stable.ID.1'], orto['Gene.stable.ID']))\n",
    "orto_names_dict = dict(zip(orto['Gene.stable.ID'], orto['HGNC.symbol']))"
   ]
  },
  {
   "cell_type": "code",
   "execution_count": 86,
   "id": "538476cb",
   "metadata": {},
   "outputs": [],
   "source": [
    "orto_transcripts = list(map(orto_dict.get, transcripts))"
   ]
  },
  {
   "cell_type": "code",
   "execution_count": 87,
   "id": "9b668c95",
   "metadata": {},
   "outputs": [],
   "source": [
    "rnaseq['HGNC'] = rnaseq['Unnamed: 0'].map(orto_names_dict)"
   ]
  },
  {
   "cell_type": "code",
   "execution_count": 88,
   "id": "0faa5b28",
   "metadata": {},
   "outputs": [],
   "source": [
    "output = rnaseq[rnaseq['Unnamed: 0'].isin(orto_transcripts)]"
   ]
  },
  {
   "cell_type": "code",
   "execution_count": 89,
   "id": "1055faec",
   "metadata": {},
   "outputs": [
    {
     "data": {
      "text/html": [
       "<div>\n",
       "<style scoped>\n",
       "    .dataframe tbody tr th:only-of-type {\n",
       "        vertical-align: middle;\n",
       "    }\n",
       "\n",
       "    .dataframe tbody tr th {\n",
       "        vertical-align: top;\n",
       "    }\n",
       "\n",
       "    .dataframe thead th {\n",
       "        text-align: right;\n",
       "    }\n",
       "</style>\n",
       "<table border=\"1\" class=\"dataframe\">\n",
       "  <thead>\n",
       "    <tr style=\"text-align: right;\">\n",
       "      <th></th>\n",
       "      <th>Unnamed: 0</th>\n",
       "      <th>baseMean</th>\n",
       "      <th>log2FoldChange</th>\n",
       "      <th>lfcSE</th>\n",
       "      <th>stat</th>\n",
       "      <th>pvalue</th>\n",
       "      <th>padj</th>\n",
       "      <th>HGNC</th>\n",
       "    </tr>\n",
       "  </thead>\n",
       "  <tbody>\n",
       "    <tr>\n",
       "      <th>290</th>\n",
       "      <td>ENSNFUG00015001467</td>\n",
       "      <td>431.009123</td>\n",
       "      <td>0.001595</td>\n",
       "      <td>0.002982</td>\n",
       "      <td>0.534906</td>\n",
       "      <td>0.592715</td>\n",
       "      <td>0.999943</td>\n",
       "      <td>DUSP1</td>\n",
       "    </tr>\n",
       "    <tr>\n",
       "      <th>493</th>\n",
       "      <td>ENSNFUG00015002441</td>\n",
       "      <td>1717.416933</td>\n",
       "      <td>0.002663</td>\n",
       "      <td>0.002234</td>\n",
       "      <td>1.191756</td>\n",
       "      <td>0.233357</td>\n",
       "      <td>0.999943</td>\n",
       "      <td>MTUS1</td>\n",
       "    </tr>\n",
       "    <tr>\n",
       "      <th>892</th>\n",
       "      <td>ENSNFUG00015004453</td>\n",
       "      <td>229.841456</td>\n",
       "      <td>0.001629</td>\n",
       "      <td>0.001269</td>\n",
       "      <td>1.283889</td>\n",
       "      <td>0.199181</td>\n",
       "      <td>0.999943</td>\n",
       "      <td>WASL</td>\n",
       "    </tr>\n",
       "    <tr>\n",
       "      <th>1124</th>\n",
       "      <td>ENSNFUG00015011568</td>\n",
       "      <td>11.918021</td>\n",
       "      <td>-0.000607</td>\n",
       "      <td>0.006879</td>\n",
       "      <td>-0.088183</td>\n",
       "      <td>0.929731</td>\n",
       "      <td>0.999943</td>\n",
       "      <td>MSN</td>\n",
       "    </tr>\n",
       "    <tr>\n",
       "      <th>1593</th>\n",
       "      <td>ENSNFUG00015000248</td>\n",
       "      <td>650.833956</td>\n",
       "      <td>0.003692</td>\n",
       "      <td>0.002030</td>\n",
       "      <td>1.819136</td>\n",
       "      <td>0.068891</td>\n",
       "      <td>0.999943</td>\n",
       "      <td>RAC2</td>\n",
       "    </tr>\n",
       "    <tr>\n",
       "      <th>...</th>\n",
       "      <td>...</td>\n",
       "      <td>...</td>\n",
       "      <td>...</td>\n",
       "      <td>...</td>\n",
       "      <td>...</td>\n",
       "      <td>...</td>\n",
       "      <td>...</td>\n",
       "      <td>...</td>\n",
       "    </tr>\n",
       "    <tr>\n",
       "      <th>24383</th>\n",
       "      <td>ENSNFUG00015016879</td>\n",
       "      <td>10.148164</td>\n",
       "      <td>0.001407</td>\n",
       "      <td>0.004746</td>\n",
       "      <td>0.296395</td>\n",
       "      <td>0.766929</td>\n",
       "      <td>0.999943</td>\n",
       "      <td>GPC1</td>\n",
       "    </tr>\n",
       "    <tr>\n",
       "      <th>24521</th>\n",
       "      <td>ENSNFUG00015014834</td>\n",
       "      <td>162.734710</td>\n",
       "      <td>0.027100</td>\n",
       "      <td>0.013261</td>\n",
       "      <td>2.043556</td>\n",
       "      <td>0.040997</td>\n",
       "      <td>0.999943</td>\n",
       "      <td>IGHM</td>\n",
       "    </tr>\n",
       "    <tr>\n",
       "      <th>24983</th>\n",
       "      <td>ENSNFUG00015014430</td>\n",
       "      <td>69.353237</td>\n",
       "      <td>0.002225</td>\n",
       "      <td>0.001972</td>\n",
       "      <td>1.128405</td>\n",
       "      <td>0.259149</td>\n",
       "      <td>0.999943</td>\n",
       "      <td>PTPRO</td>\n",
       "    </tr>\n",
       "    <tr>\n",
       "      <th>25280</th>\n",
       "      <td>ENSNFUG00015016139</td>\n",
       "      <td>15.990595</td>\n",
       "      <td>0.002429</td>\n",
       "      <td>0.004119</td>\n",
       "      <td>0.589684</td>\n",
       "      <td>0.555403</td>\n",
       "      <td>0.999943</td>\n",
       "      <td>ARTN</td>\n",
       "    </tr>\n",
       "    <tr>\n",
       "      <th>25343</th>\n",
       "      <td>ENSNFUG00015015068</td>\n",
       "      <td>5.055549</td>\n",
       "      <td>0.008078</td>\n",
       "      <td>0.006530</td>\n",
       "      <td>1.237096</td>\n",
       "      <td>0.216052</td>\n",
       "      <td>0.999943</td>\n",
       "      <td>FCAMR</td>\n",
       "    </tr>\n",
       "  </tbody>\n",
       "</table>\n",
       "<p>114 rows × 8 columns</p>\n",
       "</div>"
      ],
      "text/plain": [
       "               Unnamed: 0     baseMean  log2FoldChange     lfcSE      stat  \\\n",
       "290    ENSNFUG00015001467   431.009123        0.001595  0.002982  0.534906   \n",
       "493    ENSNFUG00015002441  1717.416933        0.002663  0.002234  1.191756   \n",
       "892    ENSNFUG00015004453   229.841456        0.001629  0.001269  1.283889   \n",
       "1124   ENSNFUG00015011568    11.918021       -0.000607  0.006879 -0.088183   \n",
       "1593   ENSNFUG00015000248   650.833956        0.003692  0.002030  1.819136   \n",
       "...                   ...          ...             ...       ...       ...   \n",
       "24383  ENSNFUG00015016879    10.148164        0.001407  0.004746  0.296395   \n",
       "24521  ENSNFUG00015014834   162.734710        0.027100  0.013261  2.043556   \n",
       "24983  ENSNFUG00015014430    69.353237        0.002225  0.001972  1.128405   \n",
       "25280  ENSNFUG00015016139    15.990595        0.002429  0.004119  0.589684   \n",
       "25343  ENSNFUG00015015068     5.055549        0.008078  0.006530  1.237096   \n",
       "\n",
       "         pvalue      padj   HGNC  \n",
       "290    0.592715  0.999943  DUSP1  \n",
       "493    0.233357  0.999943  MTUS1  \n",
       "892    0.199181  0.999943   WASL  \n",
       "1124   0.929731  0.999943    MSN  \n",
       "1593   0.068891  0.999943   RAC2  \n",
       "...         ...       ...    ...  \n",
       "24383  0.766929  0.999943   GPC1  \n",
       "24521  0.040997  0.999943   IGHM  \n",
       "24983  0.259149  0.999943  PTPRO  \n",
       "25280  0.555403  0.999943   ARTN  \n",
       "25343  0.216052  0.999943  FCAMR  \n",
       "\n",
       "[114 rows x 8 columns]"
      ]
     },
     "execution_count": 89,
     "metadata": {},
     "output_type": "execute_result"
    }
   ],
   "source": [
    "output"
   ]
  },
  {
   "cell_type": "code",
   "execution_count": 90,
   "id": "e6c873a0",
   "metadata": {},
   "outputs": [],
   "source": [
    "output.to_csv(\"Results/GSEA_Analysis/Specific_Pathways/LeukocyteMigration_Q4.00_Log2FC_060921.csv\")"
   ]
  },
  {
   "cell_type": "code",
   "execution_count": null,
   "id": "94a258d6",
   "metadata": {},
   "outputs": [],
   "source": []
  }
 ],
 "metadata": {
  "kernelspec": {
   "display_name": "Python 3",
   "language": "python",
   "name": "python3"
  },
  "language_info": {
   "codemirror_mode": {
    "name": "ipython",
    "version": 3
   },
   "file_extension": ".py",
   "mimetype": "text/x-python",
   "name": "python",
   "nbconvert_exporter": "python",
   "pygments_lexer": "ipython3",
   "version": "3.8.8"
  }
 },
 "nbformat": 4,
 "nbformat_minor": 5
}
