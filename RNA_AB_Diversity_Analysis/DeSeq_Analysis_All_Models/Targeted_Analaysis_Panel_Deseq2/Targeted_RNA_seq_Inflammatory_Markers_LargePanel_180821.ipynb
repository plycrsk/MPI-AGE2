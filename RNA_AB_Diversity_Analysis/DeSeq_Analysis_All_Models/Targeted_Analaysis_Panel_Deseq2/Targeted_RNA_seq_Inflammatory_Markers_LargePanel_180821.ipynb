{
 "cells": [
  {
   "cell_type": "code",
   "execution_count": 202,
   "id": "3684988e",
   "metadata": {},
   "outputs": [],
   "source": [
    "import pandas as pd"
   ]
  },
  {
   "cell_type": "code",
   "execution_count": 203,
   "id": "350273cb",
   "metadata": {},
   "outputs": [],
   "source": [
    "RNAseq_data = pd.read_csv(\"../Results/DiffExp_Analysis/DiffExp_div_plus_age_Q4.00_150821.csv\")\n",
    "Markers = pd.read_csv(\"Inflammatory_Markers_260721.csv\", header=None)"
   ]
  },
  {
   "cell_type": "code",
   "execution_count": 204,
   "id": "1aa4ab46",
   "metadata": {},
   "outputs": [],
   "source": [
    "Markers = Markers.dropna()"
   ]
  },
  {
   "cell_type": "code",
   "execution_count": 205,
   "id": "8fc691a6",
   "metadata": {},
   "outputs": [],
   "source": [
    "gene_dict = dict(zip(Markers[0], Markers[3]))"
   ]
  },
  {
   "cell_type": "code",
   "execution_count": 206,
   "id": "7950b3a3",
   "metadata": {},
   "outputs": [],
   "source": [
    "RNAseq_data = RNAseq_data[RNAseq_data['Unnamed: 0'].isin(Markers[0])]"
   ]
  },
  {
   "cell_type": "code",
   "execution_count": 207,
   "id": "20045a2a",
   "metadata": {},
   "outputs": [],
   "source": [
    "RNAseq_data = RNAseq_data.reset_index()"
   ]
  },
  {
   "cell_type": "code",
   "execution_count": 208,
   "id": "03c3a986",
   "metadata": {},
   "outputs": [],
   "source": [
    "RNAseq_data['Gene_Name'] = RNAseq_data['Unnamed: 0'].map(gene_dict)"
   ]
  },
  {
   "cell_type": "code",
   "execution_count": 209,
   "id": "1a03d252",
   "metadata": {},
   "outputs": [
    {
     "data": {
      "text/plain": [
       "0     False\n",
       "1     False\n",
       "2     False\n",
       "3     False\n",
       "4     False\n",
       "5      True\n",
       "6     False\n",
       "7     False\n",
       "8     False\n",
       "9      True\n",
       "10    False\n",
       "11    False\n",
       "12    False\n",
       "13    False\n",
       "14    False\n",
       "15    False\n",
       "16    False\n",
       "Name: padj, dtype: bool"
      ]
     },
     "execution_count": 209,
     "metadata": {},
     "output_type": "execute_result"
    }
   ],
   "source": [
    "RNAseq_data['padj'] <0.05"
   ]
  },
  {
   "cell_type": "code",
   "execution_count": null,
   "id": "53757658",
   "metadata": {},
   "outputs": [],
   "source": []
  },
  {
   "cell_type": "code",
   "execution_count": 210,
   "id": "e6f73a68",
   "metadata": {},
   "outputs": [],
   "source": [
    "RNAseq_data.to_csv(\"Inflammatory_Panel_Broad_div_plus_age_Q4.00_180821.csv\")"
   ]
  },
  {
   "cell_type": "code",
   "execution_count": null,
   "id": "ee232b8b",
   "metadata": {},
   "outputs": [],
   "source": []
  }
 ],
 "metadata": {
  "kernelspec": {
   "display_name": "Python 3",
   "language": "python",
   "name": "python3"
  },
  "language_info": {
   "codemirror_mode": {
    "name": "ipython",
    "version": 3
   },
   "file_extension": ".py",
   "mimetype": "text/x-python",
   "name": "python",
   "nbconvert_exporter": "python",
   "pygments_lexer": "ipython3",
   "version": "3.8.8"
  }
 },
 "nbformat": 4,
 "nbformat_minor": 5
}
