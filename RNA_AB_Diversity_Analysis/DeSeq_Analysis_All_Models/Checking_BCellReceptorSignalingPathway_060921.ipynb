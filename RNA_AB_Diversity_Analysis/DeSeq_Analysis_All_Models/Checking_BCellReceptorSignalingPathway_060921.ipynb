{
 "cells": [
  {
   "cell_type": "code",
   "execution_count": 173,
   "id": "d7ddbc8a",
   "metadata": {},
   "outputs": [],
   "source": [
    "import pandas as pd "
   ]
  },
  {
   "cell_type": "code",
   "execution_count": 174,
   "id": "21617ba2",
   "metadata": {},
   "outputs": [],
   "source": [
    "transcripts = pd.read_csv(\"Results/GSEA_Analysis/gsea_simplified_results_Q2.00_WithGOTreeFinal_220821.csv\")\n",
    "orto = pd.read_csv(\"killifish_human_ortho.csv\")\n",
    "rnaseq = pd.read_csv(\"Results/DiffExp_Analysis/DiffExp_age_plus_div_Q2.00_150821.csv\")"
   ]
  },
  {
   "cell_type": "code",
   "execution_count": 175,
   "id": "3bda4c59",
   "metadata": {
    "scrolled": true
   },
   "outputs": [],
   "source": [
    "index = transcripts[transcripts['Description'].str.startswith('B cell recep')].index"
   ]
  },
  {
   "cell_type": "code",
   "execution_count": 176,
   "id": "3be1319d",
   "metadata": {},
   "outputs": [
    {
     "data": {
      "text/plain": [
       "Int64Index([], dtype='int64')"
      ]
     },
     "execution_count": 176,
     "metadata": {},
     "output_type": "execute_result"
    }
   ],
   "source": [
    "index"
   ]
  },
  {
   "cell_type": "code",
   "execution_count": 171,
   "id": "08553add",
   "metadata": {},
   "outputs": [
    {
     "ename": "IndexError",
     "evalue": "index 0 is out of bounds for axis 0 with size 0",
     "output_type": "error",
     "traceback": [
      "\u001b[0;31m---------------------------------------------------------------------------\u001b[0m",
      "\u001b[0;31mIndexError\u001b[0m                                Traceback (most recent call last)",
      "\u001b[0;32m<ipython-input-171-2ee7279c7615>\u001b[0m in \u001b[0;36m<module>\u001b[0;34m\u001b[0m\n\u001b[0;32m----> 1\u001b[0;31m \u001b[0mtranscripts\u001b[0m \u001b[0;34m=\u001b[0m \u001b[0mtranscripts\u001b[0m\u001b[0;34m.\u001b[0m\u001b[0miloc\u001b[0m\u001b[0;34m[\u001b[0m\u001b[0mindex\u001b[0m\u001b[0;34m[\u001b[0m\u001b[0;36m0\u001b[0m\u001b[0;34m]\u001b[0m\u001b[0;34m]\u001b[0m\u001b[0;34m[\u001b[0m\u001b[0;34m'core_enrichment'\u001b[0m\u001b[0;34m]\u001b[0m\u001b[0;34m.\u001b[0m\u001b[0msplit\u001b[0m\u001b[0;34m(\u001b[0m\u001b[0;34m'/'\u001b[0m\u001b[0;34m)\u001b[0m\u001b[0;34m\u001b[0m\u001b[0;34m\u001b[0m\u001b[0m\n\u001b[0m",
      "\u001b[0;32m~/anaconda3/lib/python3.8/site-packages/pandas/core/indexes/base.py\u001b[0m in \u001b[0;36m__getitem__\u001b[0;34m(self, key)\u001b[0m\n\u001b[1;32m   4295\u001b[0m         \u001b[0;32mif\u001b[0m \u001b[0mis_scalar\u001b[0m\u001b[0;34m(\u001b[0m\u001b[0mkey\u001b[0m\u001b[0;34m)\u001b[0m\u001b[0;34m:\u001b[0m\u001b[0;34m\u001b[0m\u001b[0;34m\u001b[0m\u001b[0m\n\u001b[1;32m   4296\u001b[0m             \u001b[0mkey\u001b[0m \u001b[0;34m=\u001b[0m \u001b[0mcom\u001b[0m\u001b[0;34m.\u001b[0m\u001b[0mcast_scalar_indexer\u001b[0m\u001b[0;34m(\u001b[0m\u001b[0mkey\u001b[0m\u001b[0;34m,\u001b[0m \u001b[0mwarn_float\u001b[0m\u001b[0;34m=\u001b[0m\u001b[0;32mTrue\u001b[0m\u001b[0;34m)\u001b[0m\u001b[0;34m\u001b[0m\u001b[0;34m\u001b[0m\u001b[0m\n\u001b[0;32m-> 4297\u001b[0;31m             \u001b[0;32mreturn\u001b[0m \u001b[0mgetitem\u001b[0m\u001b[0;34m(\u001b[0m\u001b[0mkey\u001b[0m\u001b[0;34m)\u001b[0m\u001b[0;34m\u001b[0m\u001b[0;34m\u001b[0m\u001b[0m\n\u001b[0m\u001b[1;32m   4298\u001b[0m \u001b[0;34m\u001b[0m\u001b[0m\n\u001b[1;32m   4299\u001b[0m         \u001b[0;32mif\u001b[0m \u001b[0misinstance\u001b[0m\u001b[0;34m(\u001b[0m\u001b[0mkey\u001b[0m\u001b[0;34m,\u001b[0m \u001b[0mslice\u001b[0m\u001b[0;34m)\u001b[0m\u001b[0;34m:\u001b[0m\u001b[0;34m\u001b[0m\u001b[0;34m\u001b[0m\u001b[0m\n",
      "\u001b[0;31mIndexError\u001b[0m: index 0 is out of bounds for axis 0 with size 0"
     ]
    }
   ],
   "source": [
    "transcripts = transcripts.iloc[index[0]]['core_enrichment'].split('/')"
   ]
  },
  {
   "cell_type": "code",
   "execution_count": null,
   "id": "c331c656",
   "metadata": {},
   "outputs": [],
   "source": [
    "orto.columns"
   ]
  },
  {
   "cell_type": "code",
   "execution_count": null,
   "id": "01f38e1e",
   "metadata": {},
   "outputs": [],
   "source": [
    "orto_dict = dict(zip(orto['Gene.stable.ID.1'], orto['Gene.stable.ID']))\n",
    "orto_names_dict = dict(zip(orto['Gene.stable.ID'], orto['HGNC.symbol']))"
   ]
  },
  {
   "cell_type": "code",
   "execution_count": null,
   "id": "538476cb",
   "metadata": {},
   "outputs": [],
   "source": [
    "orto_transcripts = list(map(orto_dict.get, transcripts))"
   ]
  },
  {
   "cell_type": "code",
   "execution_count": null,
   "id": "9b668c95",
   "metadata": {},
   "outputs": [],
   "source": [
    "rnaseq['HGNC'] = rnaseq['Unnamed: 0'].map(orto_names_dict)"
   ]
  },
  {
   "cell_type": "code",
   "execution_count": null,
   "id": "0faa5b28",
   "metadata": {},
   "outputs": [],
   "source": [
    "output = rnaseq[rnaseq['Unnamed: 0'].isin(orto_transcripts)]"
   ]
  },
  {
   "cell_type": "code",
   "execution_count": null,
   "id": "1055faec",
   "metadata": {},
   "outputs": [],
   "source": [
    "output"
   ]
  },
  {
   "cell_type": "code",
   "execution_count": null,
   "id": "e6c873a0",
   "metadata": {},
   "outputs": [],
   "source": [
    "output.to_csv(\"Results/GSEA_Analysis/Specific_Pathways/BCellReceptorSignalingPathway_Q2.00_Log2FC_060921.csv\")"
   ]
  },
  {
   "cell_type": "code",
   "execution_count": null,
   "id": "94a258d6",
   "metadata": {},
   "outputs": [],
   "source": []
  }
 ],
 "metadata": {
  "kernelspec": {
   "display_name": "Python 3",
   "language": "python",
   "name": "python3"
  },
  "language_info": {
   "codemirror_mode": {
    "name": "ipython",
    "version": 3
   },
   "file_extension": ".py",
   "mimetype": "text/x-python",
   "name": "python",
   "nbconvert_exporter": "python",
   "pygments_lexer": "ipython3",
   "version": "3.8.8"
  }
 },
 "nbformat": 4,
 "nbformat_minor": 5
}
