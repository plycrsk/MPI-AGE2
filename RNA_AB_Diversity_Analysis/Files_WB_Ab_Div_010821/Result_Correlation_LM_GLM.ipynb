{
 "cells": [
  {
   "cell_type": "code",
   "execution_count": 1,
   "id": "9257692b",
   "metadata": {},
   "outputs": [],
   "source": [
    "## will test correlation between GLM and LM p-values ##\n",
    "## this gives a rough idea of whether models are doing the same thing ## "
   ]
  },
  {
   "cell_type": "code",
   "execution_count": 2,
   "id": "1faae483",
   "metadata": {},
   "outputs": [],
   "source": [
    "import pandas as pd"
   ]
  },
  {
   "cell_type": "code",
   "execution_count": 21,
   "id": "0538d537",
   "metadata": {},
   "outputs": [],
   "source": [
    "GLM_data = pd.read_csv(\"DiffExp_Q4.00_100821.csv\")\n",
    "LM_data = pd.read_csv(\"killifish_human_ortho_regresson_table_Q4.00_290701.csv\")\n",
    "ortho = pd.read_csv(\"killifish_human_ortho.csv\")"
   ]
  },
  {
   "cell_type": "code",
   "execution_count": 26,
   "id": "722e3c9a",
   "metadata": {},
   "outputs": [],
   "source": [
    "GLM_data = GLM_data[['Unnamed: 0', 'pvalue']]"
   ]
  },
  {
   "cell_type": "code",
   "execution_count": 27,
   "id": "8c02a832",
   "metadata": {},
   "outputs": [],
   "source": [
    "LM_data = LM_data[['GENE', 'p.value']]"
   ]
  },
  {
   "cell_type": "code",
   "execution_count": 23,
   "id": "240f8d96",
   "metadata": {},
   "outputs": [],
   "source": [
    "ortho_dict = dict(zip(ortho['Gene.stable.ID'], ortho['Gene.stable.ID.1']))"
   ]
  },
  {
   "cell_type": "code",
   "execution_count": 29,
   "id": "64b9e54f",
   "metadata": {},
   "outputs": [
    {
     "name": "stderr",
     "output_type": "stream",
     "text": [
      "<ipython-input-29-d187f5d5a04f>:1: SettingWithCopyWarning: \n",
      "A value is trying to be set on a copy of a slice from a DataFrame.\n",
      "Try using .loc[row_indexer,col_indexer] = value instead\n",
      "\n",
      "See the caveats in the documentation: https://pandas.pydata.org/pandas-docs/stable/user_guide/indexing.html#returning-a-view-versus-a-copy\n",
      "  GLM_data['Unnamed: 0'] = GLM_data['Unnamed: 0'].map(ortho_dict)\n"
     ]
    }
   ],
   "source": [
    "GLM_data['Unnamed: 0'] = GLM_data['Unnamed: 0'].map(ortho_dict)"
   ]
  },
  {
   "cell_type": "code",
   "execution_count": 32,
   "id": "5b5154ff",
   "metadata": {},
   "outputs": [],
   "source": [
    "GLM_data = GLM_data.dropna()"
   ]
  },
  {
   "cell_type": "code",
   "execution_count": 35,
   "id": "ce5ae79f",
   "metadata": {},
   "outputs": [],
   "source": [
    "import matplotlib.pyplot as plt"
   ]
  },
  {
   "cell_type": "code",
   "execution_count": 43,
   "id": "5e3cd667",
   "metadata": {},
   "outputs": [],
   "source": [
    "GLM_data = GLM_data.drop_duplicates(subset='Unnamed: 0')"
   ]
  },
  {
   "cell_type": "code",
   "execution_count": 50,
   "id": "97c1838e",
   "metadata": {},
   "outputs": [],
   "source": [
    "GLM_data = GLM_data.sort_values(by='Unnamed: 0')\n",
    "LM_data = LM_data.sort_values(by='GENE')"
   ]
  },
  {
   "cell_type": "code",
   "execution_count": 57,
   "id": "eeeed437",
   "metadata": {},
   "outputs": [],
   "source": [
    "gene_list = LM_data['GENE']"
   ]
  },
  {
   "cell_type": "code",
   "execution_count": 60,
   "id": "cb843a2f",
   "metadata": {},
   "outputs": [],
   "source": [
    "GLM_data = GLM_data[GLM_data['Unnamed: 0'].isin(gene_list)]"
   ]
  },
  {
   "cell_type": "code",
   "execution_count": 61,
   "id": "57ca2fb8",
   "metadata": {},
   "outputs": [],
   "source": [
    "GLM_list = GLM_data['Unnamed: 0']"
   ]
  },
  {
   "cell_type": "code",
   "execution_count": 65,
   "id": "46ca4e2a",
   "metadata": {},
   "outputs": [],
   "source": [
    "LM_data = LM_data[LM_data['GENE'].isin(GLM_list)]"
   ]
  },
  {
   "cell_type": "code",
   "execution_count": 68,
   "id": "3ab5102e",
   "metadata": {},
   "outputs": [
    {
     "data": {
      "text/plain": [
       "<matplotlib.collections.PathCollection at 0x7f142db9b7f0>"
      ]
     },
     "execution_count": 68,
     "metadata": {},
     "output_type": "execute_result"
    },
    {
     "data": {
      "image/png": "[encoded data removed]",
      "text/plain": [
       "<Figure size 432x288 with 1 Axes>"
      ]
     },
     "metadata": {
      "needs_background": "light"
     },
     "output_type": "display_data"
    }
   ],
   "source": [
    "plt.scatter(GLM_data['Unnamed: 0'], LM_data['GENE'])"
   ]
  },
  {
   "cell_type": "code",
   "execution_count": 71,
   "id": "03ce43a1",
   "metadata": {},
   "outputs": [],
   "source": [
    "GLM_data_dict = dict(zip(GLM_data['Unnamed: 0'], GLM_data['pvalue']))"
   ]
  },
  {
   "cell_type": "code",
   "execution_count": 72,
   "id": "38f5a86f",
   "metadata": {},
   "outputs": [
    {
     "name": "stderr",
     "output_type": "stream",
     "text": [
      "<ipython-input-72-4be04fa366a4>:1: SettingWithCopyWarning: \n",
      "A value is trying to be set on a copy of a slice from a DataFrame.\n",
      "Try using .loc[row_indexer,col_indexer] = value instead\n",
      "\n",
      "See the caveats in the documentation: https://pandas.pydata.org/pandas-docs/stable/user_guide/indexing.html#returning-a-view-versus-a-copy\n",
      "  LM_data['GLM'] = LM_data['GENE'].map(GLM_data_dict)\n"
     ]
    }
   ],
   "source": [
    "LM_data['GLM'] = LM_data['GENE'].map(GLM_data_dict)"
   ]
  },
  {
   "cell_type": "code",
   "execution_count": 74,
   "id": "e2504082",
   "metadata": {},
   "outputs": [
    {
     "data": {
      "text/html": [
       "<div>\n",
       "<style scoped>\n",
       "    .dataframe tbody tr th:only-of-type {\n",
       "        vertical-align: middle;\n",
       "    }\n",
       "\n",
       "    .dataframe tbody tr th {\n",
       "        vertical-align: top;\n",
       "    }\n",
       "\n",
       "    .dataframe thead th {\n",
       "        text-align: right;\n",
       "    }\n",
       "</style>\n",
       "<table border=\"1\" class=\"dataframe\">\n",
       "  <thead>\n",
       "    <tr style=\"text-align: right;\">\n",
       "      <th></th>\n",
       "      <th>p.value</th>\n",
       "      <th>GLM</th>\n",
       "    </tr>\n",
       "  </thead>\n",
       "  <tbody>\n",
       "    <tr>\n",
       "      <th>p.value</th>\n",
       "      <td>1.000000</td>\n",
       "      <td>0.306486</td>\n",
       "    </tr>\n",
       "    <tr>\n",
       "      <th>GLM</th>\n",
       "      <td>0.306486</td>\n",
       "      <td>1.000000</td>\n",
       "    </tr>\n",
       "  </tbody>\n",
       "</table>\n",
       "</div>"
      ],
      "text/plain": [
       "          p.value       GLM\n",
       "p.value  1.000000  0.306486\n",
       "GLM      0.306486  1.000000"
      ]
     },
     "execution_count": 74,
     "metadata": {},
     "output_type": "execute_result"
    }
   ],
   "source": [
    "LM_data.corr()"
   ]
  },
  {
   "cell_type": "code",
   "execution_count": null,
   "id": "1dbe6f8a",
   "metadata": {},
   "outputs": [],
   "source": []
  }
 ],
 "metadata": {
  "kernelspec": {
   "display_name": "Python 3",
   "language": "python",
   "name": "python3"
  },
  "language_info": {
   "codemirror_mode": {
    "name": "ipython",
    "version": 3
   },
   "file_extension": ".py",
   "mimetype": "text/x-python",
   "name": "python",
   "nbconvert_exporter": "python",
   "pygments_lexer": "ipython3",
   "version": "3.8.8"
  }
 },
 "nbformat": 4,
 "nbformat_minor": 5
}
