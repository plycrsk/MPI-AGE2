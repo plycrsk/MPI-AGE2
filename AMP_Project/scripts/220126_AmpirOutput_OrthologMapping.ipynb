{
 "cells": [
  {
   "cell_type": "code",
   "execution_count": 1,
   "id": "879fabaf",
   "metadata": {},
   "outputs": [],
   "source": [
    "import pandas as pd"
   ]
  },
  {
   "cell_type": "code",
   "execution_count": 5,
   "id": "607089f5",
   "metadata": {},
   "outputs": [],
   "source": [
    "ampir_data = pd.read_csv(\"../output/220126_Ampir_Data_NoNan_Sorted_Annotated.csv\")\n",
    "orthologs_data = pd.read_csv(\"../data/killifish_orthologs_mapped4species\", sep='\\t')"
   ]
  },
  {
   "cell_type": "code",
   "execution_count": 21,
   "id": "42ec18ca",
   "metadata": {},
   "outputs": [],
   "source": [
    "ampir_genes = [ampir_data.iloc[:,9][i].split('=')[1] for i in range(len(ampir_data))]"
   ]
  },
  {
   "cell_type": "code",
   "execution_count": 27,
   "id": "31a2c2e3",
   "metadata": {},
   "outputs": [],
   "source": [
    "ampir_genes = [x.lower() for x in ampir_genes]"
   ]
  },
  {
   "cell_type": "code",
   "execution_count": 54,
   "id": "4f93161f",
   "metadata": {},
   "outputs": [],
   "source": [
    "ampir_data.iloc[:,9] = ampir_genes"
   ]
  },
  {
   "cell_type": "code",
   "execution_count": 58,
   "id": "91f9592c",
   "metadata": {},
   "outputs": [],
   "source": [
    "orthologs_dict = dict(zip(orthologs_data['Gene_Symbol'], [orthologs_data['AAU'], orthologs_data['CTO']]))"
   ]
  },
  {
   "cell_type": "code",
   "execution_count": 76,
   "id": "d5e9ca52",
   "metadata": {},
   "outputs": [],
   "source": [
    "AAU_dict = dict(zip(orthologs_data['Gene_Symbol'], orthologs_data['AAU']))\n",
    "CTO_dict = dict(zip(orthologs_data['Gene_Symbol'], orthologs_data['CTO']))\n",
    "NOR_dict = dict(zip(orthologs_data['Gene_Symbol'], orthologs_data['NOR']))\n",
    "PLP_dict = dict(zip(orthologs_data['Gene_Symbol'], orthologs_data['PLP']))"
   ]
  },
  {
   "cell_type": "code",
   "execution_count": 93,
   "id": "516c4e21",
   "metadata": {},
   "outputs": [],
   "source": [
    "ampir_data['AAU'] = ampir_data.iloc[:,9].map(AAU_dict)\n",
    "ampir_data['CTO'] = ampir_data.iloc[:,9].map(CTO_dict)\n",
    "ampir_data['NOR'] = ampir_data.iloc[:,9].map(NOR_dict)\n",
    "ampir_data['PLP'] = ampir_data.iloc[:,9].map(PLP_dict)"
   ]
  },
  {
   "cell_type": "code",
   "execution_count": 103,
   "id": "6ea896cf",
   "metadata": {},
   "outputs": [],
   "source": [
    "ampir_data.to_csv(\"../output/220126_AmpirData_Annotated_Orthologs.csv\")"
   ]
  },
  {
   "cell_type": "code",
   "execution_count": 109,
   "id": "586d1a87",
   "metadata": {},
   "outputs": [],
   "source": [
    "ampir_90 = ampir_data[ampir_data['AMP Probability'] > 0.9]"
   ]
  },
  {
   "cell_type": "code",
   "execution_count": 110,
   "id": "e27d1770",
   "metadata": {},
   "outputs": [],
   "source": [
    "ampir_90.to_csv(\"../output/220126_AmpirData_Annotated_Orthologs_90quartile.csv\")"
   ]
  },
  {
   "cell_type": "code",
   "execution_count": 114,
   "id": "a0cf94f7",
   "metadata": {},
   "outputs": [],
   "source": [
    "ampir_data.dropna().reset_index().to_csv(\"../output/220126_AmpirData_Annotated_Orthologs_MappedOnly.csv\")"
   ]
  },
  {
   "cell_type": "code",
   "execution_count": null,
   "id": "f008020d",
   "metadata": {},
   "outputs": [],
   "source": []
  }
 ],
 "metadata": {
  "kernelspec": {
   "display_name": "Python 3",
   "language": "python",
   "name": "python3"
  },
  "language_info": {
   "codemirror_mode": {
    "name": "ipython",
    "version": 3
   },
   "file_extension": ".py",
   "mimetype": "text/x-python",
   "name": "python",
   "nbconvert_exporter": "python",
   "pygments_lexer": "ipython3",
   "version": "3.8.8"
  }
 },
 "nbformat": 4,
 "nbformat_minor": 5
}
