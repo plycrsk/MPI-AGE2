{
 "cells": [
  {
   "cell_type": "code",
   "execution_count": 40,
   "id": "62c4f87c",
   "metadata": {},
   "outputs": [],
   "source": [
    "import pandas as pd"
   ]
  },
  {
   "cell_type": "code",
   "execution_count": 41,
   "id": "9c7faa1d",
   "metadata": {},
   "outputs": [],
   "source": [
    "ampir_data = pd.read_csv(\"../output/ampir_predictions.csv\")"
   ]
  },
  {
   "cell_type": "code",
   "execution_count": 42,
   "id": "1fc5213e",
   "metadata": {},
   "outputs": [],
   "source": [
    "ampir_data = ampir_data.sort_values(by='AMP Probability', ascending=False).dropna().reset_index()"
   ]
  },
  {
   "cell_type": "code",
   "execution_count": 43,
   "id": "fa1c4279",
   "metadata": {},
   "outputs": [
    {
     "data": {
      "text/html": [
       "<div>\n",
       "<style scoped>\n",
       "    .dataframe tbody tr th:only-of-type {\n",
       "        vertical-align: middle;\n",
       "    }\n",
       "\n",
       "    .dataframe tbody tr th {\n",
       "        vertical-align: top;\n",
       "    }\n",
       "\n",
       "    .dataframe thead th {\n",
       "        text-align: right;\n",
       "    }\n",
       "</style>\n",
       "<table border=\"1\" class=\"dataframe\">\n",
       "  <thead>\n",
       "    <tr style=\"text-align: right;\">\n",
       "      <th></th>\n",
       "      <th>index</th>\n",
       "      <th>Name</th>\n",
       "      <th>AMP Probability</th>\n",
       "      <th>Sequence</th>\n",
       "    </tr>\n",
       "  </thead>\n",
       "  <tbody>\n",
       "    <tr>\n",
       "      <th>0</th>\n",
       "      <td>46313</td>\n",
       "      <td>Nfu_p_1_051016 geneid=Nfu_g_1_021306 transcrip...</td>\n",
       "      <td>0.999436</td>\n",
       "      <td>MLKRFVEVKLEVVLGACERDSQCGGGMCCAVSLWIPSLRMCMPMGR...</td>\n",
       "    </tr>\n",
       "    <tr>\n",
       "      <th>1</th>\n",
       "      <td>30292</td>\n",
       "      <td>Nfu_p_1_015546 geneid=Nfu_g_1_006434 transcrip...</td>\n",
       "      <td>0.999109</td>\n",
       "      <td>MKTVVFAVLVFLLISQNEALKCYCGGKRQCPDRIETCIGSDSVCIS...</td>\n",
       "    </tr>\n",
       "    <tr>\n",
       "      <th>2</th>\n",
       "      <td>26571</td>\n",
       "      <td>Nfu_p_1_057963 geneid=Nfu_g_1_024966 transcrip...</td>\n",
       "      <td>0.998434</td>\n",
       "      <td>SSPAVCVTRPPQVCQTALGDGNEGKLDMTDPSYTPSLYFRLCTRCG...</td>\n",
       "    </tr>\n",
       "    <tr>\n",
       "      <th>3</th>\n",
       "      <td>14553</td>\n",
       "      <td>Nfu_p_1_005807 geneid=Nfu_g_1_002306 transcrip...</td>\n",
       "      <td>0.998221</td>\n",
       "      <td>MRALVVLPLVLCVVVCVHQARAEGKAVKLCGREFLRAVVYTCGGSR...</td>\n",
       "    </tr>\n",
       "    <tr>\n",
       "      <th>4</th>\n",
       "      <td>47708</td>\n",
       "      <td>Nfu_p_1_009293 geneid=Nfu_g_1_003787 transcrip...</td>\n",
       "      <td>0.997445</td>\n",
       "      <td>VLLLCGFSCDCLMLVYRLIFYHRAHRQKVFLLCGFSCECLILLSLQ...</td>\n",
       "    </tr>\n",
       "    <tr>\n",
       "      <th>...</th>\n",
       "      <td>...</td>\n",
       "      <td>...</td>\n",
       "      <td>...</td>\n",
       "      <td>...</td>\n",
       "    </tr>\n",
       "    <tr>\n",
       "      <th>58786</th>\n",
       "      <td>54737</td>\n",
       "      <td>Nfu_p_1_008164 geneid=Nfu_g_1_003287 transcrip...</td>\n",
       "      <td>0.000047</td>\n",
       "      <td>MGRVRTKTIKKASRVIIEKYYTRLGNDFHVNKRVCEEIAIIPSKPL...</td>\n",
       "    </tr>\n",
       "    <tr>\n",
       "      <th>58787</th>\n",
       "      <td>29878</td>\n",
       "      <td>Nfu_p_1_038867 geneid=Nfu_g_1_016194 transcrip...</td>\n",
       "      <td>0.000042</td>\n",
       "      <td>MATLVANRNVDINGLAAAARTHTQAVTRNYISQPRLTYSTVSGVNG...</td>\n",
       "    </tr>\n",
       "    <tr>\n",
       "      <th>58788</th>\n",
       "      <td>58986</td>\n",
       "      <td>Nfu_p_1_022327 geneid=Nfu_g_1_009181 transcrip...</td>\n",
       "      <td>0.000039</td>\n",
       "      <td>MSSHVSSECRRVTPSVHGNRFDTVHRKRAVANIFENVSEDALTRLF...</td>\n",
       "    </tr>\n",
       "    <tr>\n",
       "      <th>58789</th>\n",
       "      <td>20922</td>\n",
       "      <td>Nfu_p_1_038840 geneid=Nfu_g_1_016176 transcrip...</td>\n",
       "      <td>0.000026</td>\n",
       "      <td>HFVHAGNILATQRLLRYHPGAHVGIGTNNTLYALEDGHVRFTKEVY...</td>\n",
       "    </tr>\n",
       "    <tr>\n",
       "      <th>58790</th>\n",
       "      <td>11982</td>\n",
       "      <td>Nfu_p_1_026948 geneid=Nfu_g_1_011170 transcrip...</td>\n",
       "      <td>0.000015</td>\n",
       "      <td>VGQGYPHDPPKVKCETMVYHPNIDLEGNVCLNILREDWKPVLTINS...</td>\n",
       "    </tr>\n",
       "  </tbody>\n",
       "</table>\n",
       "<p>58791 rows × 4 columns</p>\n",
       "</div>"
      ],
      "text/plain": [
       "       index                                               Name  \\\n",
       "0      46313  Nfu_p_1_051016 geneid=Nfu_g_1_021306 transcrip...   \n",
       "1      30292  Nfu_p_1_015546 geneid=Nfu_g_1_006434 transcrip...   \n",
       "2      26571  Nfu_p_1_057963 geneid=Nfu_g_1_024966 transcrip...   \n",
       "3      14553  Nfu_p_1_005807 geneid=Nfu_g_1_002306 transcrip...   \n",
       "4      47708  Nfu_p_1_009293 geneid=Nfu_g_1_003787 transcrip...   \n",
       "...      ...                                                ...   \n",
       "58786  54737  Nfu_p_1_008164 geneid=Nfu_g_1_003287 transcrip...   \n",
       "58787  29878  Nfu_p_1_038867 geneid=Nfu_g_1_016194 transcrip...   \n",
       "58788  58986  Nfu_p_1_022327 geneid=Nfu_g_1_009181 transcrip...   \n",
       "58789  20922  Nfu_p_1_038840 geneid=Nfu_g_1_016176 transcrip...   \n",
       "58790  11982  Nfu_p_1_026948 geneid=Nfu_g_1_011170 transcrip...   \n",
       "\n",
       "       AMP Probability                                           Sequence  \n",
       "0             0.999436  MLKRFVEVKLEVVLGACERDSQCGGGMCCAVSLWIPSLRMCMPMGR...  \n",
       "1             0.999109  MKTVVFAVLVFLLISQNEALKCYCGGKRQCPDRIETCIGSDSVCIS...  \n",
       "2             0.998434  SSPAVCVTRPPQVCQTALGDGNEGKLDMTDPSYTPSLYFRLCTRCG...  \n",
       "3             0.998221  MRALVVLPLVLCVVVCVHQARAEGKAVKLCGREFLRAVVYTCGGSR...  \n",
       "4             0.997445  VLLLCGFSCDCLMLVYRLIFYHRAHRQKVFLLCGFSCECLILLSLQ...  \n",
       "...                ...                                                ...  \n",
       "58786         0.000047  MGRVRTKTIKKASRVIIEKYYTRLGNDFHVNKRVCEEIAIIPSKPL...  \n",
       "58787         0.000042  MATLVANRNVDINGLAAAARTHTQAVTRNYISQPRLTYSTVSGVNG...  \n",
       "58788         0.000039  MSSHVSSECRRVTPSVHGNRFDTVHRKRAVANIFENVSEDALTRLF...  \n",
       "58789         0.000026  HFVHAGNILATQRLLRYHPGAHVGIGTNNTLYALEDGHVRFTKEVY...  \n",
       "58790         0.000015  VGQGYPHDPPKVKCETMVYHPNIDLEGNVCLNILREDWKPVLTINS...  \n",
       "\n",
       "[58791 rows x 4 columns]"
      ]
     },
     "execution_count": 43,
     "metadata": {},
     "output_type": "execute_result"
    }
   ],
   "source": [
    "ampir_data"
   ]
  },
  {
   "cell_type": "code",
   "execution_count": 21,
   "id": "b44baf74",
   "metadata": {},
   "outputs": [],
   "source": [
    "Name_columns = ampir_data['Name'].str.split(' ', expand=True)"
   ]
  },
  {
   "cell_type": "code",
   "execution_count": 35,
   "id": "1e322637",
   "metadata": {},
   "outputs": [],
   "source": [
    "Annotation = ampir_data['Name'].str.split('annotation=', expand=True)"
   ]
  },
  {
   "cell_type": "code",
   "execution_count": 51,
   "id": "cc6101dc",
   "metadata": {},
   "outputs": [
    {
     "data": {
      "text/plain": [
       "0                                           prokineticin 2\n",
       "1        Chromosome 2 SCAF8387, whole genome shotgun se...\n",
       "2                                 LIM domains containing 1\n",
       "3                                          insulin-like 5a\n",
       "4                                                     None\n",
       "                               ...                        \n",
       "58786                                ribosomal protein S17\n",
       "58787    ATPase, H+ transporting, lysosomal, V1 subunit...\n",
       "58788                    chromosome 8 open reading frame 4\n",
       "58789                  mitochondrial ribosomal protein L27\n",
       "58790                     ubiquitin-conjugating enzyme E2M\n",
       "Name: 1, Length: 58791, dtype: object"
      ]
     },
     "execution_count": 51,
     "metadata": {},
     "output_type": "execute_result"
    }
   ],
   "source": [
    "Annotation.iloc[:,1]"
   ]
  },
  {
   "cell_type": "code",
   "execution_count": 45,
   "id": "d3061062",
   "metadata": {},
   "outputs": [],
   "source": [
    "ampir_data = ampir_data.join(Name_columns.iloc[:,0:5])"
   ]
  },
  {
   "cell_type": "code",
   "execution_count": 54,
   "id": "d2a69d69",
   "metadata": {},
   "outputs": [],
   "source": [
    "ampir_data['Annotation'] = Annotation[1]"
   ]
  },
  {
   "cell_type": "code",
   "execution_count": 57,
   "id": "42732931",
   "metadata": {},
   "outputs": [],
   "source": [
    "ampir_data.to_csv(\"../output/220126_Ampir_Data_NoNan_Sorted_Annotated.csv\")"
   ]
  },
  {
   "cell_type": "code",
   "execution_count": null,
   "id": "286b465d",
   "metadata": {},
   "outputs": [],
   "source": []
  }
 ],
 "metadata": {
  "kernelspec": {
   "display_name": "Python 3",
   "language": "python",
   "name": "python3"
  },
  "language_info": {
   "codemirror_mode": {
    "name": "ipython",
    "version": 3
   },
   "file_extension": ".py",
   "mimetype": "text/x-python",
   "name": "python",
   "nbconvert_exporter": "python",
   "pygments_lexer": "ipython3",
   "version": "3.8.8"
  }
 },
 "nbformat": 4,
 "nbformat_minor": 5
}
