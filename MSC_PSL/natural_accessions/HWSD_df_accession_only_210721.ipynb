{
 "cells": [
  {
   "cell_type": "code",
   "execution_count": 197,
   "id": "0fb306d4",
   "metadata": {},
   "outputs": [],
   "source": [
    "import pandas as pd"
   ]
  },
  {
   "cell_type": "code",
   "execution_count": 198,
   "id": "e997b57d",
   "metadata": {},
   "outputs": [
    {
     "name": "stderr",
     "output_type": "stream",
     "text": [
      "/home/plycrsk/anaconda3/lib/python3.8/site-packages/IPython/core/interactiveshell.py:3165: DtypeWarning: Columns (8) have mixed types.Specify dtype option on import or set low_memory=False.\n",
      "  has_raised = await self.run_ast_nodes(code_ast.body, cell_name,\n"
     ]
    }
   ],
   "source": [
    "accession = pd.read_csv(\"dataframe_with_soil_factors_salinity_mean_counts_210720.csv\")\n",
    "HWSD = pd.read_csv(\"HWSD_dataframe.csv\")"
   ]
  },
  {
   "cell_type": "code",
   "execution_count": 199,
   "id": "6c5d3368",
   "metadata": {},
   "outputs": [],
   "source": [
    "accession = accession.dropna()"
   ]
  },
  {
   "cell_type": "code",
   "execution_count": 200,
   "id": "31fef151",
   "metadata": {},
   "outputs": [],
   "source": [
    "SMUs = list(accession['Soil Mapping Unit'])"
   ]
  },
  {
   "cell_type": "code",
   "execution_count": 201,
   "id": "dd5db523",
   "metadata": {},
   "outputs": [],
   "source": [
    "SMUs = list(map(int, SMUs))"
   ]
  },
  {
   "cell_type": "code",
   "execution_count": 202,
   "id": "314eaacc",
   "metadata": {},
   "outputs": [],
   "source": [
    "HWSD_accession = HWSD[HWSD['MU.GLOBAL'].isin(SMUs)]"
   ]
  },
  {
   "cell_type": "code",
   "execution_count": 203,
   "id": "d8a450ec",
   "metadata": {},
   "outputs": [],
   "source": [
    "TECE_first = HWSD_accession[['MU.GLOBAL', 'T.ECE']]"
   ]
  },
  {
   "cell_type": "code",
   "execution_count": 204,
   "id": "c867583a",
   "metadata": {},
   "outputs": [],
   "source": [
    "TECE_first = TECE_first.groupby(['MU.GLOBAL']).first()"
   ]
  },
  {
   "cell_type": "code",
   "execution_count": 205,
   "id": "74cb98af",
   "metadata": {},
   "outputs": [],
   "source": [
    "TECE_first = TECE_first.reset_index()"
   ]
  },
  {
   "cell_type": "code",
   "execution_count": 206,
   "id": "e3006b5d",
   "metadata": {},
   "outputs": [],
   "source": [
    "TECE_first_dict = dict(zip(TECE_first['MU.GLOBAL'], TECE_first['T.ECE']))"
   ]
  },
  {
   "cell_type": "code",
   "execution_count": 207,
   "id": "33e8b132",
   "metadata": {},
   "outputs": [],
   "source": [
    "TECE_max = HWSD_accession[['MU.GLOBAL', 'T.ECE', 'SHARE']]\n",
    "Share_max = HWSD_accession[['MU.GLOBAL', 'SHARE']]"
   ]
  },
  {
   "cell_type": "code",
   "execution_count": 208,
   "id": "eada559a",
   "metadata": {},
   "outputs": [],
   "source": [
    "idx = TECE_max.groupby(['MU.GLOBAL'])['T.ECE'].transform(max) == TECE_max['T.ECE']"
   ]
  },
  {
   "cell_type": "code",
   "execution_count": 209,
   "id": "a3585762",
   "metadata": {},
   "outputs": [],
   "source": [
    "TECE_max_share_dict = dict(zip(TECE_max[idx]['MU.GLOBAL'], TECE_max[idx]['SHARE']))"
   ]
  },
  {
   "cell_type": "code",
   "execution_count": 210,
   "id": "e19a0e3f",
   "metadata": {},
   "outputs": [],
   "source": [
    "TECE_max = TECE_max.groupby(['MU.GLOBAL'])['T.ECE'].max()\n",
    "Share_max = Share_max.groupby(['MU.GLOBAL'])['SHARE'].max()"
   ]
  },
  {
   "cell_type": "code",
   "execution_count": 211,
   "id": "24633747",
   "metadata": {},
   "outputs": [],
   "source": [
    "TECE_max_dict = TECE_max.to_dict()\n",
    "Share_max_dict = Share_max.to_dict()"
   ]
  },
  {
   "cell_type": "code",
   "execution_count": 212,
   "id": "778a713e",
   "metadata": {},
   "outputs": [],
   "source": [
    "accession['T.ECE Max Value'] = accession['Soil Mapping Unit'].map(TECE_max_dict)"
   ]
  },
  {
   "cell_type": "code",
   "execution_count": 213,
   "id": "1e63a881",
   "metadata": {},
   "outputs": [],
   "source": [
    "accession['T.ECE Max Value Soil Predominance'] = accession['Soil Mapping Unit'].map(TECE_max_share_dict)"
   ]
  },
  {
   "cell_type": "code",
   "execution_count": 214,
   "id": "4314fb4e",
   "metadata": {},
   "outputs": [],
   "source": [
    "accession['Predominant Soil Percentage'] = accession['Soil Mapping Unit'].map(Share_max_dict)"
   ]
  },
  {
   "cell_type": "code",
   "execution_count": 215,
   "id": "a4adfc3c",
   "metadata": {},
   "outputs": [],
   "source": [
    "accession['Predominant Soil TopSoil Salinity'] = accession['Soil Mapping Unit'].map(TECE_first_dict)"
   ]
  },
  {
   "cell_type": "code",
   "execution_count": 216,
   "id": "11d13239",
   "metadata": {},
   "outputs": [],
   "source": [
    "accession = accession.rename(columns={'TCE': 'TopSoil Salinity Unweighted Avg', 'SCE': 'SubSoil Salinity Unweighted Avg',\n",
    "                         'sal_comp': 'weighted_avg', 'Unnamed: 9': 'Pred. Soil Type'})"
   ]
  },
  {
   "cell_type": "code",
   "execution_count": 217,
   "id": "b74b44d9",
   "metadata": {},
   "outputs": [],
   "source": [
    "accession.to_csv(\"Accession_List_With_Soil_Salinity_210721.csv\")"
   ]
  },
  {
   "cell_type": "code",
   "execution_count": null,
   "id": "91386d7e",
   "metadata": {},
   "outputs": [],
   "source": []
  },
  {
   "cell_type": "code",
   "execution_count": null,
   "id": "369a776f",
   "metadata": {},
   "outputs": [],
   "source": []
  }
 ],
 "metadata": {
  "kernelspec": {
   "display_name": "Python 3",
   "language": "python",
   "name": "python3"
  },
  "language_info": {
   "codemirror_mode": {
    "name": "ipython",
    "version": 3
   },
   "file_extension": ".py",
   "mimetype": "text/x-python",
   "name": "python",
   "nbconvert_exporter": "python",
   "pygments_lexer": "ipython3",
   "version": "3.8.8"
  }
 },
 "nbformat": 4,
 "nbformat_minor": 5
}
